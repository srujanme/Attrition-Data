{
  "nbformat": 4,
  "nbformat_minor": 0,
  "metadata": {
    "colab": {
      "provenance": [],
      "authorship_tag": "ABX9TyOrC+5r0Ypiops4H8FiKUW9",
      "include_colab_link": true
    },
    "kernelspec": {
      "name": "python3",
      "display_name": "Python 3"
    },
    "language_info": {
      "name": "python"
    }
  },
  "cells": [
    {
      "cell_type": "markdown",
      "metadata": {
        "id": "view-in-github",
        "colab_type": "text"
      },
      "source": [
        "<a href=\"https://colab.research.google.com/github/srujanme/Attrition-Data/blob/main/Attrition.ipynb\" target=\"_parent\"><img src=\"https://colab.research.google.com/assets/colab-badge.svg\" alt=\"Open In Colab\"/></a>"
      ]
    },
    {
      "cell_type": "code",
      "execution_count": null,
      "metadata": {
        "id": "FNyhTfYi50eQ"
      },
      "outputs": [],
      "source": [
        "#Major Project Submission (Exploratary Data Analysis)\n",
        "import pandas as pd\n",
        "data=pd.read_csv('/content/Attrition Data(1).csv')"
      ]
    },
    {
      "cell_type": "code",
      "source": [
        "data"
      ],
      "metadata": {
        "colab": {
          "base_uri": "https://localhost:8080/",
          "height": 627
        },
        "id": "rGCmWC0q6K9g",
        "outputId": "a5a58806-e020-44d6-ba8c-284c01540d53"
      },
      "execution_count": null,
      "outputs": [
        {
          "output_type": "execute_result",
          "data": {
            "text/plain": [
              "      Age Attrition              Department  DistanceFromHome  Education  \\\n",
              "0      41       Yes                   Sales                 1          2   \n",
              "1      49        No  Research & Development                 8          1   \n",
              "2      37       Yes  Research & Development                 2          2   \n",
              "3      33        No  Research & Development                 3          4   \n",
              "4      27        No  Research & Development                 2          1   \n",
              "...   ...       ...                     ...               ...        ...   \n",
              "1465   36        No  Research & Development                23          2   \n",
              "1466   39        No  Research & Development                 6          1   \n",
              "1467   27        No  Research & Development                 4          3   \n",
              "1468   49        No                   Sales                 2          3   \n",
              "1469   34        No  Research & Development                 8          3   \n",
              "\n",
              "     EducationField  EnvironmentSatisfaction  JobSatisfaction MaritalStatus  \\\n",
              "0     Life Sciences                        2                4        Single   \n",
              "1     Life Sciences                        3                2       Married   \n",
              "2             Other                        4                3        Single   \n",
              "3     Life Sciences                        4                3       Married   \n",
              "4           Medical                        1                2       Married   \n",
              "...             ...                      ...              ...           ...   \n",
              "1465        Medical                        3                4       Married   \n",
              "1466        Medical                        4                1       Married   \n",
              "1467  Life Sciences                        2                2       Married   \n",
              "1468        Medical                        4                2       Married   \n",
              "1469        Medical                        2                3       Married   \n",
              "\n",
              "      MonthlyIncome  NumCompaniesWorked  WorkLifeBalance  YearsAtCompany  \n",
              "0              5993                   8                1               6  \n",
              "1              5130                   1                3              10  \n",
              "2              2090                   6                3               0  \n",
              "3              2909                   1                3               8  \n",
              "4              3468                   9                3               2  \n",
              "...             ...                 ...              ...             ...  \n",
              "1465           2571                   4                3               5  \n",
              "1466           9991                   4                3               7  \n",
              "1467           6142                   1                3               6  \n",
              "1468           5390                   2                2               9  \n",
              "1469           4404                   2                4               4  \n",
              "\n",
              "[1470 rows x 13 columns]"
            ],
            "text/html": [
              "\n",
              "  <div id=\"df-d514e030-c548-4a7c-9e66-666a3831ac1a\">\n",
              "    <div class=\"colab-df-container\">\n",
              "      <div>\n",
              "<style scoped>\n",
              "    .dataframe tbody tr th:only-of-type {\n",
              "        vertical-align: middle;\n",
              "    }\n",
              "\n",
              "    .dataframe tbody tr th {\n",
              "        vertical-align: top;\n",
              "    }\n",
              "\n",
              "    .dataframe thead th {\n",
              "        text-align: right;\n",
              "    }\n",
              "</style>\n",
              "<table border=\"1\" class=\"dataframe\">\n",
              "  <thead>\n",
              "    <tr style=\"text-align: right;\">\n",
              "      <th></th>\n",
              "      <th>Age</th>\n",
              "      <th>Attrition</th>\n",
              "      <th>Department</th>\n",
              "      <th>DistanceFromHome</th>\n",
              "      <th>Education</th>\n",
              "      <th>EducationField</th>\n",
              "      <th>EnvironmentSatisfaction</th>\n",
              "      <th>JobSatisfaction</th>\n",
              "      <th>MaritalStatus</th>\n",
              "      <th>MonthlyIncome</th>\n",
              "      <th>NumCompaniesWorked</th>\n",
              "      <th>WorkLifeBalance</th>\n",
              "      <th>YearsAtCompany</th>\n",
              "    </tr>\n",
              "  </thead>\n",
              "  <tbody>\n",
              "    <tr>\n",
              "      <th>0</th>\n",
              "      <td>41</td>\n",
              "      <td>Yes</td>\n",
              "      <td>Sales</td>\n",
              "      <td>1</td>\n",
              "      <td>2</td>\n",
              "      <td>Life Sciences</td>\n",
              "      <td>2</td>\n",
              "      <td>4</td>\n",
              "      <td>Single</td>\n",
              "      <td>5993</td>\n",
              "      <td>8</td>\n",
              "      <td>1</td>\n",
              "      <td>6</td>\n",
              "    </tr>\n",
              "    <tr>\n",
              "      <th>1</th>\n",
              "      <td>49</td>\n",
              "      <td>No</td>\n",
              "      <td>Research &amp; Development</td>\n",
              "      <td>8</td>\n",
              "      <td>1</td>\n",
              "      <td>Life Sciences</td>\n",
              "      <td>3</td>\n",
              "      <td>2</td>\n",
              "      <td>Married</td>\n",
              "      <td>5130</td>\n",
              "      <td>1</td>\n",
              "      <td>3</td>\n",
              "      <td>10</td>\n",
              "    </tr>\n",
              "    <tr>\n",
              "      <th>2</th>\n",
              "      <td>37</td>\n",
              "      <td>Yes</td>\n",
              "      <td>Research &amp; Development</td>\n",
              "      <td>2</td>\n",
              "      <td>2</td>\n",
              "      <td>Other</td>\n",
              "      <td>4</td>\n",
              "      <td>3</td>\n",
              "      <td>Single</td>\n",
              "      <td>2090</td>\n",
              "      <td>6</td>\n",
              "      <td>3</td>\n",
              "      <td>0</td>\n",
              "    </tr>\n",
              "    <tr>\n",
              "      <th>3</th>\n",
              "      <td>33</td>\n",
              "      <td>No</td>\n",
              "      <td>Research &amp; Development</td>\n",
              "      <td>3</td>\n",
              "      <td>4</td>\n",
              "      <td>Life Sciences</td>\n",
              "      <td>4</td>\n",
              "      <td>3</td>\n",
              "      <td>Married</td>\n",
              "      <td>2909</td>\n",
              "      <td>1</td>\n",
              "      <td>3</td>\n",
              "      <td>8</td>\n",
              "    </tr>\n",
              "    <tr>\n",
              "      <th>4</th>\n",
              "      <td>27</td>\n",
              "      <td>No</td>\n",
              "      <td>Research &amp; Development</td>\n",
              "      <td>2</td>\n",
              "      <td>1</td>\n",
              "      <td>Medical</td>\n",
              "      <td>1</td>\n",
              "      <td>2</td>\n",
              "      <td>Married</td>\n",
              "      <td>3468</td>\n",
              "      <td>9</td>\n",
              "      <td>3</td>\n",
              "      <td>2</td>\n",
              "    </tr>\n",
              "    <tr>\n",
              "      <th>...</th>\n",
              "      <td>...</td>\n",
              "      <td>...</td>\n",
              "      <td>...</td>\n",
              "      <td>...</td>\n",
              "      <td>...</td>\n",
              "      <td>...</td>\n",
              "      <td>...</td>\n",
              "      <td>...</td>\n",
              "      <td>...</td>\n",
              "      <td>...</td>\n",
              "      <td>...</td>\n",
              "      <td>...</td>\n",
              "      <td>...</td>\n",
              "    </tr>\n",
              "    <tr>\n",
              "      <th>1465</th>\n",
              "      <td>36</td>\n",
              "      <td>No</td>\n",
              "      <td>Research &amp; Development</td>\n",
              "      <td>23</td>\n",
              "      <td>2</td>\n",
              "      <td>Medical</td>\n",
              "      <td>3</td>\n",
              "      <td>4</td>\n",
              "      <td>Married</td>\n",
              "      <td>2571</td>\n",
              "      <td>4</td>\n",
              "      <td>3</td>\n",
              "      <td>5</td>\n",
              "    </tr>\n",
              "    <tr>\n",
              "      <th>1466</th>\n",
              "      <td>39</td>\n",
              "      <td>No</td>\n",
              "      <td>Research &amp; Development</td>\n",
              "      <td>6</td>\n",
              "      <td>1</td>\n",
              "      <td>Medical</td>\n",
              "      <td>4</td>\n",
              "      <td>1</td>\n",
              "      <td>Married</td>\n",
              "      <td>9991</td>\n",
              "      <td>4</td>\n",
              "      <td>3</td>\n",
              "      <td>7</td>\n",
              "    </tr>\n",
              "    <tr>\n",
              "      <th>1467</th>\n",
              "      <td>27</td>\n",
              "      <td>No</td>\n",
              "      <td>Research &amp; Development</td>\n",
              "      <td>4</td>\n",
              "      <td>3</td>\n",
              "      <td>Life Sciences</td>\n",
              "      <td>2</td>\n",
              "      <td>2</td>\n",
              "      <td>Married</td>\n",
              "      <td>6142</td>\n",
              "      <td>1</td>\n",
              "      <td>3</td>\n",
              "      <td>6</td>\n",
              "    </tr>\n",
              "    <tr>\n",
              "      <th>1468</th>\n",
              "      <td>49</td>\n",
              "      <td>No</td>\n",
              "      <td>Sales</td>\n",
              "      <td>2</td>\n",
              "      <td>3</td>\n",
              "      <td>Medical</td>\n",
              "      <td>4</td>\n",
              "      <td>2</td>\n",
              "      <td>Married</td>\n",
              "      <td>5390</td>\n",
              "      <td>2</td>\n",
              "      <td>2</td>\n",
              "      <td>9</td>\n",
              "    </tr>\n",
              "    <tr>\n",
              "      <th>1469</th>\n",
              "      <td>34</td>\n",
              "      <td>No</td>\n",
              "      <td>Research &amp; Development</td>\n",
              "      <td>8</td>\n",
              "      <td>3</td>\n",
              "      <td>Medical</td>\n",
              "      <td>2</td>\n",
              "      <td>3</td>\n",
              "      <td>Married</td>\n",
              "      <td>4404</td>\n",
              "      <td>2</td>\n",
              "      <td>4</td>\n",
              "      <td>4</td>\n",
              "    </tr>\n",
              "  </tbody>\n",
              "</table>\n",
              "<p>1470 rows × 13 columns</p>\n",
              "</div>\n",
              "      <button class=\"colab-df-convert\" onclick=\"convertToInteractive('df-d514e030-c548-4a7c-9e66-666a3831ac1a')\"\n",
              "              title=\"Convert this dataframe to an interactive table.\"\n",
              "              style=\"display:none;\">\n",
              "        \n",
              "  <svg xmlns=\"http://www.w3.org/2000/svg\" height=\"24px\"viewBox=\"0 0 24 24\"\n",
              "       width=\"24px\">\n",
              "    <path d=\"M0 0h24v24H0V0z\" fill=\"none\"/>\n",
              "    <path d=\"M18.56 5.44l.94 2.06.94-2.06 2.06-.94-2.06-.94-.94-2.06-.94 2.06-2.06.94zm-11 1L8.5 8.5l.94-2.06 2.06-.94-2.06-.94L8.5 2.5l-.94 2.06-2.06.94zm10 10l.94 2.06.94-2.06 2.06-.94-2.06-.94-.94-2.06-.94 2.06-2.06.94z\"/><path d=\"M17.41 7.96l-1.37-1.37c-.4-.4-.92-.59-1.43-.59-.52 0-1.04.2-1.43.59L10.3 9.45l-7.72 7.72c-.78.78-.78 2.05 0 2.83L4 21.41c.39.39.9.59 1.41.59.51 0 1.02-.2 1.41-.59l7.78-7.78 2.81-2.81c.8-.78.8-2.07 0-2.86zM5.41 20L4 18.59l7.72-7.72 1.47 1.35L5.41 20z\"/>\n",
              "  </svg>\n",
              "      </button>\n",
              "      \n",
              "  <style>\n",
              "    .colab-df-container {\n",
              "      display:flex;\n",
              "      flex-wrap:wrap;\n",
              "      gap: 12px;\n",
              "    }\n",
              "\n",
              "    .colab-df-convert {\n",
              "      background-color: #E8F0FE;\n",
              "      border: none;\n",
              "      border-radius: 50%;\n",
              "      cursor: pointer;\n",
              "      display: none;\n",
              "      fill: #1967D2;\n",
              "      height: 32px;\n",
              "      padding: 0 0 0 0;\n",
              "      width: 32px;\n",
              "    }\n",
              "\n",
              "    .colab-df-convert:hover {\n",
              "      background-color: #E2EBFA;\n",
              "      box-shadow: 0px 1px 2px rgba(60, 64, 67, 0.3), 0px 1px 3px 1px rgba(60, 64, 67, 0.15);\n",
              "      fill: #174EA6;\n",
              "    }\n",
              "\n",
              "    [theme=dark] .colab-df-convert {\n",
              "      background-color: #3B4455;\n",
              "      fill: #D2E3FC;\n",
              "    }\n",
              "\n",
              "    [theme=dark] .colab-df-convert:hover {\n",
              "      background-color: #434B5C;\n",
              "      box-shadow: 0px 1px 3px 1px rgba(0, 0, 0, 0.15);\n",
              "      filter: drop-shadow(0px 1px 2px rgba(0, 0, 0, 0.3));\n",
              "      fill: #FFFFFF;\n",
              "    }\n",
              "  </style>\n",
              "\n",
              "      <script>\n",
              "        const buttonEl =\n",
              "          document.querySelector('#df-d514e030-c548-4a7c-9e66-666a3831ac1a button.colab-df-convert');\n",
              "        buttonEl.style.display =\n",
              "          google.colab.kernel.accessAllowed ? 'block' : 'none';\n",
              "\n",
              "        async function convertToInteractive(key) {\n",
              "          const element = document.querySelector('#df-d514e030-c548-4a7c-9e66-666a3831ac1a');\n",
              "          const dataTable =\n",
              "            await google.colab.kernel.invokeFunction('convertToInteractive',\n",
              "                                                     [key], {});\n",
              "          if (!dataTable) return;\n",
              "\n",
              "          const docLinkHtml = 'Like what you see? Visit the ' +\n",
              "            '<a target=\"_blank\" href=https://colab.research.google.com/notebooks/data_table.ipynb>data table notebook</a>'\n",
              "            + ' to learn more about interactive tables.';\n",
              "          element.innerHTML = '';\n",
              "          dataTable['output_type'] = 'display_data';\n",
              "          await google.colab.output.renderOutput(dataTable, element);\n",
              "          const docLink = document.createElement('div');\n",
              "          docLink.innerHTML = docLinkHtml;\n",
              "          element.appendChild(docLink);\n",
              "        }\n",
              "      </script>\n",
              "    </div>\n",
              "  </div>\n",
              "  "
            ]
          },
          "metadata": {},
          "execution_count": 6
        }
      ]
    },
    {
      "cell_type": "code",
      "source": [
        "#information of the data\n",
        "data.size"
      ],
      "metadata": {
        "colab": {
          "base_uri": "https://localhost:8080/"
        },
        "id": "omS_KroD7OsX",
        "outputId": "76a48a34-df1f-47ed-ffd1-7d4373edc210"
      },
      "execution_count": null,
      "outputs": [
        {
          "output_type": "execute_result",
          "data": {
            "text/plain": [
              "19110"
            ]
          },
          "metadata": {},
          "execution_count": 102
        }
      ]
    },
    {
      "cell_type": "code",
      "source": [
        "data.shape"
      ],
      "metadata": {
        "colab": {
          "base_uri": "https://localhost:8080/"
        },
        "id": "SE6tEOA97Oeg",
        "outputId": "02fa123a-6f6a-4bf1-9806-d7bdb69ceab8"
      },
      "execution_count": null,
      "outputs": [
        {
          "output_type": "execute_result",
          "data": {
            "text/plain": [
              "(1470, 13)"
            ]
          },
          "metadata": {},
          "execution_count": 103
        }
      ]
    },
    {
      "cell_type": "code",
      "source": [
        "data.nunique()"
      ],
      "metadata": {
        "colab": {
          "base_uri": "https://localhost:8080/"
        },
        "id": "UU1WhUCq7Z6o",
        "outputId": "0cdf4306-7c30-4f3e-cdd9-47dafff76501"
      },
      "execution_count": null,
      "outputs": [
        {
          "output_type": "execute_result",
          "data": {
            "text/plain": [
              "Age                          43\n",
              "Attrition                     2\n",
              "Department                    3\n",
              "DistanceFromHome             29\n",
              "Education                     5\n",
              "EducationField                6\n",
              "EnvironmentSatisfaction       4\n",
              "JobSatisfaction               4\n",
              "MaritalStatus                 3\n",
              "MonthlyIncome              1349\n",
              "NumCompaniesWorked           10\n",
              "WorkLifeBalance               4\n",
              "YearsAtCompany               37\n",
              "dtype: int64"
            ]
          },
          "metadata": {},
          "execution_count": 9
        }
      ]
    },
    {
      "cell_type": "code",
      "source": [
        "data.isnull().sum()"
      ],
      "metadata": {
        "colab": {
          "base_uri": "https://localhost:8080/"
        },
        "id": "Wlbamj_K7oZP",
        "outputId": "f3696769-3843-4723-eb56-e93c1361692d"
      },
      "execution_count": null,
      "outputs": [
        {
          "output_type": "execute_result",
          "data": {
            "text/plain": [
              "Age                        0\n",
              "Attrition                  0\n",
              "Department                 0\n",
              "DistanceFromHome           0\n",
              "Education                  0\n",
              "EducationField             0\n",
              "EnvironmentSatisfaction    0\n",
              "JobSatisfaction            0\n",
              "MaritalStatus              0\n",
              "MonthlyIncome              0\n",
              "NumCompaniesWorked         0\n",
              "WorkLifeBalance            0\n",
              "YearsAtCompany             0\n",
              "dtype: int64"
            ]
          },
          "metadata": {},
          "execution_count": 12
        }
      ]
    },
    {
      "cell_type": "code",
      "source": [
        "#information about the education field\n",
        "data.EducationField.nunique()"
      ],
      "metadata": {
        "colab": {
          "base_uri": "https://localhost:8080/"
        },
        "id": "cEdt6wYG_Z8F",
        "outputId": "a68b9478-ffa5-43bf-a0ad-b4b36d956812"
      },
      "execution_count": null,
      "outputs": [
        {
          "output_type": "execute_result",
          "data": {
            "text/plain": [
              "6"
            ]
          },
          "metadata": {},
          "execution_count": 104
        }
      ]
    },
    {
      "cell_type": "code",
      "source": [
        "data.groupby('EducationField').size()"
      ],
      "metadata": {
        "colab": {
          "base_uri": "https://localhost:8080/"
        },
        "id": "FbG0Dgm9_haB",
        "outputId": "c73aab70-7209-4a0a-91fa-f1f2a16c7c7b"
      },
      "execution_count": null,
      "outputs": [
        {
          "output_type": "execute_result",
          "data": {
            "text/plain": [
              "EducationField\n",
              "Human Resources      27\n",
              "Life Sciences       606\n",
              "Marketing           159\n",
              "Medical             464\n",
              "Other                82\n",
              "Technical Degree    132\n",
              "dtype: int64"
            ]
          },
          "metadata": {},
          "execution_count": 11
        }
      ]
    },
    {
      "cell_type": "code",
      "source": [
        "#To know the unique values in the department column\n",
        "data.Department.nunique()"
      ],
      "metadata": {
        "colab": {
          "base_uri": "https://localhost:8080/"
        },
        "id": "YebsjGRr6Lyo",
        "outputId": "b06d2a2a-2a36-4cf6-d616-b9c2439b0f7d"
      },
      "execution_count": null,
      "outputs": [
        {
          "output_type": "execute_result",
          "data": {
            "text/plain": [
              "3"
            ]
          },
          "metadata": {},
          "execution_count": 13
        }
      ]
    },
    {
      "cell_type": "code",
      "source": [
        "data.Department.unique()"
      ],
      "metadata": {
        "colab": {
          "base_uri": "https://localhost:8080/"
        },
        "id": "euucQY-T6V7g",
        "outputId": "410257cc-e30d-4a78-a5fe-180c55a6d8ec"
      },
      "execution_count": null,
      "outputs": [
        {
          "output_type": "execute_result",
          "data": {
            "text/plain": [
              "array(['Sales', 'Research & Development', 'Human Resources'], dtype=object)"
            ]
          },
          "metadata": {},
          "execution_count": 14
        }
      ]
    },
    {
      "cell_type": "code",
      "source": [
        "#Collecting information about the number of people in each department\n",
        "data.groupby('Department').size()"
      ],
      "metadata": {
        "colab": {
          "base_uri": "https://localhost:8080/"
        },
        "id": "fHjMXnqD6Z33",
        "outputId": "d43184e1-15a7-4340-bcdf-6a71685de3d3"
      },
      "execution_count": null,
      "outputs": [
        {
          "output_type": "execute_result",
          "data": {
            "text/plain": [
              "Department\n",
              "Human Resources            63\n",
              "Research & Development    961\n",
              "Sales                     446\n",
              "dtype: int64"
            ]
          },
          "metadata": {},
          "execution_count": 15
        }
      ]
    },
    {
      "cell_type": "code",
      "source": [
        "#visual Representation of the data collected above\n",
        "import seaborn as sns\n",
        "sns.countplot(x='Department',data=data)"
      ],
      "metadata": {
        "colab": {
          "base_uri": "https://localhost:8080/",
          "height": 298
        },
        "id": "28r59HQd6ih_",
        "outputId": "c8c09345-f66c-4182-a856-f480cca4ef9a"
      },
      "execution_count": null,
      "outputs": [
        {
          "output_type": "execute_result",
          "data": {
            "text/plain": [
              "<matplotlib.axes._subplots.AxesSubplot at 0x7f65095fba90>"
            ]
          },
          "metadata": {},
          "execution_count": 16
        },
        {
          "output_type": "display_data",
          "data": {
            "text/plain": [
              "<Figure size 432x288 with 1 Axes>"
            ],
            "image/png": "[encoded data removed]"
          },
          "metadata": {
            "needs_background": "light"
          }
        }
      ]
    },
    {
      "cell_type": "code",
      "source": [
        "data.groupby('EducationField').size()"
      ],
      "metadata": {
        "colab": {
          "base_uri": "https://localhost:8080/"
        },
        "id": "IWQH4nxb6xTQ",
        "outputId": "b5471a7d-a22c-4d5f-d9e5-18673171af94"
      },
      "execution_count": null,
      "outputs": [
        {
          "output_type": "execute_result",
          "data": {
            "text/plain": [
              "EducationField\n",
              "Human Resources      27\n",
              "Life Sciences       606\n",
              "Marketing           159\n",
              "Medical             464\n",
              "Other                82\n",
              "Technical Degree    132\n",
              "dtype: int64"
            ]
          },
          "metadata": {},
          "execution_count": 17
        }
      ]
    },
    {
      "cell_type": "code",
      "source": [
        "#Unique values of Marital Status\n",
        "data.MaritalStatus.nunique()"
      ],
      "metadata": {
        "colab": {
          "base_uri": "https://localhost:8080/"
        },
        "id": "ILRGaa2X7MOA",
        "outputId": "31f5cfa6-abcf-468d-ea31-46193a9d73d5"
      },
      "execution_count": null,
      "outputs": [
        {
          "output_type": "execute_result",
          "data": {
            "text/plain": [
              "3"
            ]
          },
          "metadata": {},
          "execution_count": 18
        }
      ]
    },
    {
      "cell_type": "code",
      "source": [
        "#To know how many people are married and how many are not\n",
        "data.groupby('MaritalStatus').size()"
      ],
      "metadata": {
        "colab": {
          "base_uri": "https://localhost:8080/"
        },
        "id": "PLsAIbic8OHA",
        "outputId": "35972721-2529-4aa1-fbfc-bfd0077b06a2"
      },
      "execution_count": null,
      "outputs": [
        {
          "output_type": "execute_result",
          "data": {
            "text/plain": [
              "MaritalStatus\n",
              "Divorced    327\n",
              "Married     673\n",
              "Single      470\n",
              "dtype: int64"
            ]
          },
          "metadata": {},
          "execution_count": 19
        }
      ]
    },
    {
      "cell_type": "code",
      "source": [
        "sns.countplot(y='MaritalStatus',data=data)"
      ],
      "metadata": {
        "colab": {
          "base_uri": "https://localhost:8080/",
          "height": 296
        },
        "id": "qM34WE5N8Wco",
        "outputId": "1f9ebe9a-c7ed-4d78-ac15-ff13dafc8a97"
      },
      "execution_count": null,
      "outputs": [
        {
          "output_type": "execute_result",
          "data": {
            "text/plain": [
              "<matplotlib.axes._subplots.AxesSubplot at 0x7f65095961f0>"
            ]
          },
          "metadata": {},
          "execution_count": 20
        },
        {
          "output_type": "display_data",
          "data": {
            "text/plain": [
              "<Figure size 432x288 with 1 Axes>"
            ],
            "image/png": "[encoded data removed]"
          },
          "metadata": {
            "needs_background": "light"
          }
        }
      ]
    },
    {
      "cell_type": "code",
      "source": [
        "import numpy as np\n",
        "#To gather the combined data, we will assign some variables as following\n",
        "#LSS for Single Life Scientists\n",
        "#MM for Single Doctors(Medical)\n",
        "#HRS for Single and human Resource Dept.\n",
        "#MS for single and Marketing\n",
        "#TDS for single and Technical Degree\n",
        "#OS for single and Other EducationFields\n",
        "LSS=np.sum((data['MaritalStatus']=='Single')&(data['EducationField']=='Life Sciences'))\n",
        "MM=np.sum((data['MaritalStatus']=='Single')&(data['EducationField']=='Medical'))\n",
        "HRS=np.sum((data['MaritalStatus']=='Single')&(data['EducationField']=='Human Resources'))\n",
        "MS=np.sum((data['MaritalStatus']=='Single')&(data['EducationField']=='Marketing'))\n",
        "TDS=np.sum((data['MaritalStatus']=='Single')&(data['EducationField']=='Technical Degree'))\n",
        "OS=np.sum((data['MaritalStatus']=='Single')&(data['EducationField']=='Other'))"
      ],
      "metadata": {
        "id": "2z9srcCb8rhR"
      },
      "execution_count": null,
      "outputs": []
    },
    {
      "cell_type": "code",
      "source": [
        "print(LSS)\n",
        "print(MM)\n",
        "print(HRS)\n",
        "print(MS)\n",
        "print(TDS)\n",
        "print(OS)"
      ],
      "metadata": {
        "colab": {
          "base_uri": "https://localhost:8080/"
        },
        "id": "TufsiseO-9xK",
        "outputId": "6fc36c77-89f5-4f83-94d4-5742e2838a64"
      },
      "execution_count": null,
      "outputs": [
        {
          "output_type": "stream",
          "name": "stdout",
          "text": [
            "201\n",
            "147\n",
            "2\n",
            "48\n",
            "45\n",
            "27\n"
          ]
        }
      ]
    },
    {
      "cell_type": "code",
      "source": [
        "#Similarly,\n",
        "#NLSS for married Life Scientists\n",
        "#NMM for married Doctors(Medical)\n",
        "#NHRS for married and human Resource Dept.\n",
        "#NMS for married and Marketing\n",
        "#NTDS for married and Technical Degree\n",
        "#NOS for married and Other EducationFields\n",
        "NLSS=np.sum((data['MaritalStatus']=='Married')&(data['EducationField']=='Life Sciences'))\n",
        "NMM=np.sum((data['MaritalStatus']=='Married')&(data['EducationField']=='Medical'))\n",
        "NHRS=np.sum((data['MaritalStatus']=='Married')&(data['EducationField']=='Human Resources'))\n",
        "NMS=np.sum((data['MaritalStatus']=='Married')&(data['EducationField']=='Marketing'))\n",
        "NTDS=np.sum((data['MaritalStatus']=='Married')&(data['EducationField']=='Technical Degree'))\n",
        "NOS=np.sum((data['MaritalStatus']=='Married')&(data['EducationField']=='Other'))"
      ],
      "metadata": {
        "id": "WONx8GDRAzDi"
      },
      "execution_count": null,
      "outputs": []
    },
    {
      "cell_type": "code",
      "source": [
        "print(NLSS)\n",
        "print(NMM)\n",
        "print(NHRS)\n",
        "print(NMS)\n",
        "print(NTDS)\n",
        "print(NOS)"
      ],
      "metadata": {
        "colab": {
          "base_uri": "https://localhost:8080/"
        },
        "id": "nA42g1B0C1Br",
        "outputId": "031d443d-0624-42de-8898-0023ef5df42c"
      },
      "execution_count": null,
      "outputs": [
        {
          "output_type": "stream",
          "name": "stdout",
          "text": [
            "271\n",
            "210\n",
            "18\n",
            "77\n",
            "61\n",
            "36\n"
          ]
        }
      ]
    },
    {
      "cell_type": "code",
      "source": [
        "#we will repeat the above procedure for Divorced cases with the same variables starting with 'D' in this case\n",
        "DLSS=np.sum((data['MaritalStatus']=='Divorced')&(data['EducationField']=='Life Sciences'))\n",
        "DMM=np.sum((data['MaritalStatus']=='Divorced')&(data['EducationField']=='Medical'))\n",
        "DHRS=np.sum((data['MaritalStatus']=='Divorced')&(data['EducationField']=='Human Resources'))\n",
        "DMS=np.sum((data['MaritalStatus']=='Divorced')&(data['EducationField']=='Marketing'))\n",
        "DTDS=np.sum((data['MaritalStatus']=='Divorced')&(data['EducationField']=='Technical Degree'))\n",
        "DOS=np.sum((data['MaritalStatus']=='Divorced')&(data['EducationField']=='Other'))\n",
        "print(DLSS)\n",
        "print(DMM)\n",
        "print(DHRS)\n",
        "print(DMS)\n",
        "print(DTDS)\n",
        "print(DOS)"
      ],
      "metadata": {
        "colab": {
          "base_uri": "https://localhost:8080/"
        },
        "id": "RXd6nKh6JqPJ",
        "outputId": "848c7462-4c3a-471d-f2ae-387d1c797970"
      },
      "execution_count": null,
      "outputs": [
        {
          "output_type": "stream",
          "name": "stdout",
          "text": [
            "134\n",
            "107\n",
            "7\n",
            "34\n",
            "26\n",
            "19\n"
          ]
        }
      ]
    },
    {
      "cell_type": "code",
      "source": [
        "#SUMMING UP ALL THE RESULTS TO CHECK IF THEY ARE EQUAL TO THE TOTAL NUMBER OF PEOPLE\n",
        "DLSS+DMM+DHRS+DMS+DTDS+DOS+NLSS+NMM+NHRS+NMS+NTDS+NOS+LSS+MM+HRS+MS+TDS+OS"
      ],
      "metadata": {
        "colab": {
          "base_uri": "https://localhost:8080/"
        },
        "id": "U2Omb_isKYl-",
        "outputId": "05434339-b7db-4eac-e667-ce0306831da2"
      },
      "execution_count": null,
      "outputs": [
        {
          "output_type": "execute_result",
          "data": {
            "text/plain": [
              "1470"
            ]
          },
          "metadata": {},
          "execution_count": 112
        }
      ]
    },
    {
      "cell_type": "code",
      "source": [
        "data.MaritalStatus.value_counts()"
      ],
      "metadata": {
        "colab": {
          "base_uri": "https://localhost:8080/"
        },
        "id": "t5UyY1cuJTag",
        "outputId": "d17b0950-b837-484a-9e5a-4aa7e32522ec"
      },
      "execution_count": null,
      "outputs": [
        {
          "output_type": "execute_result",
          "data": {
            "text/plain": [
              "Married     673\n",
              "Single      470\n",
              "Divorced    327\n",
              "Name: MaritalStatus, dtype: int64"
            ]
          },
          "metadata": {},
          "execution_count": 113
        }
      ]
    },
    {
      "cell_type": "code",
      "source": [
        "ME=data.groupby(['MaritalStatus','EducationField']).size()\n",
        "ME"
      ],
      "metadata": {
        "colab": {
          "base_uri": "https://localhost:8080/"
        },
        "id": "fBBnlNMfEcuE",
        "outputId": "2ff80193-88ed-428d-f017-35998acac194"
      },
      "execution_count": null,
      "outputs": [
        {
          "output_type": "execute_result",
          "data": {
            "text/plain": [
              "MaritalStatus  EducationField  \n",
              "Divorced       Human Resources       7\n",
              "               Life Sciences       134\n",
              "               Marketing            34\n",
              "               Medical             107\n",
              "               Other                19\n",
              "               Technical Degree     26\n",
              "Married        Human Resources      18\n",
              "               Life Sciences       271\n",
              "               Marketing            77\n",
              "               Medical             210\n",
              "               Other                36\n",
              "               Technical Degree     61\n",
              "Single         Human Resources       2\n",
              "               Life Sciences       201\n",
              "               Marketing            48\n",
              "               Medical             147\n",
              "               Other                27\n",
              "               Technical Degree     45\n",
              "dtype: int64"
            ]
          },
          "metadata": {},
          "execution_count": 114
        }
      ]
    },
    {
      "cell_type": "code",
      "source": [
        "#VISUAL REPRESENTATION OF THE NUMBER OF COMPANIES DIFFERENT PEOPLE WORKED FOR WORKED\n",
        "sns.countplot(x='NumCompaniesWorked',data=data)"
      ],
      "metadata": {
        "colab": {
          "base_uri": "https://localhost:8080/",
          "height": 296
        },
        "id": "ju0Aqu4pHRXN",
        "outputId": "2e3b176f-d1a7-444f-c906-628148bf83a7"
      },
      "execution_count": null,
      "outputs": [
        {
          "output_type": "execute_result",
          "data": {
            "text/plain": [
              "<matplotlib.axes._subplots.AxesSubplot at 0x7f650906c370>"
            ]
          },
          "metadata": {},
          "execution_count": 29
        },
        {
          "output_type": "display_data",
          "data": {
            "text/plain": [
              "<Figure size 432x288 with 1 Axes>"
            ],
            "image/png": "[encoded data removed]"
          },
          "metadata": {
            "needs_background": "light"
          }
        }
      ]
    },
    {
      "cell_type": "code",
      "source": [
        "data.groupby(['NumCompaniesWorked','YearsAtCompany']).size()"
      ],
      "metadata": {
        "colab": {
          "base_uri": "https://localhost:8080/"
        },
        "id": "V9saKRB3HscW",
        "outputId": "fdd98c3e-5e4c-484a-ed9b-2e4a32421df0"
      },
      "execution_count": null,
      "outputs": [
        {
          "output_type": "execute_result",
          "data": {
            "text/plain": [
              "NumCompaniesWorked  YearsAtCompany\n",
              "0                   0                  2\n",
              "                    1                  4\n",
              "                    2                 14\n",
              "                    3                 23\n",
              "                    4                 15\n",
              "                                      ..\n",
              "9                   13                 2\n",
              "                    16                 1\n",
              "                    18                 1\n",
              "                    20                 2\n",
              "                    22                 1\n",
              "Length: 209, dtype: int64"
            ]
          },
          "metadata": {},
          "execution_count": 30
        }
      ]
    },
    {
      "cell_type": "code",
      "source": [
        "data[['NumCompaniesWorked','YearsAtCompany']].value_counts()"
      ],
      "metadata": {
        "colab": {
          "base_uri": "https://localhost:8080/"
        },
        "id": "eIRlFKXxIV9f",
        "outputId": "8747954a-4fca-4608-bb05-6a4a7eb996f9"
      },
      "execution_count": null,
      "outputs": [
        {
          "output_type": "execute_result",
          "data": {
            "text/plain": [
              "NumCompaniesWorked  YearsAtCompany\n",
              "1                   10                92\n",
              "                    1                 77\n",
              "                    5                 53\n",
              "0                   5                 34\n",
              "1                   6                 34\n",
              "                                      ..\n",
              "2                   25                 1\n",
              "                    24                 1\n",
              "7                   15                 1\n",
              "5                   18                 1\n",
              "9                   22                 1\n",
              "Length: 209, dtype: int64"
            ]
          },
          "metadata": {},
          "execution_count": 31
        }
      ]
    },
    {
      "cell_type": "code",
      "source": [
        "#to find the number of people who are more satisfioed with the environment and are earning more than 15000\n",
        "Sat=np.sum((data['EnvironmentSatisfaction']==4)&(data['MonthlyIncome']>=15000))\n",
        "Sat\n"
      ],
      "metadata": {
        "colab": {
          "base_uri": "https://localhost:8080/"
        },
        "id": "qtdDuUPFJMGF",
        "outputId": "e34cc909-64c1-4219-fa67-31f4fcd486c6"
      },
      "execution_count": null,
      "outputs": [
        {
          "output_type": "execute_result",
          "data": {
            "text/plain": [
              "46"
            ]
          },
          "metadata": {},
          "execution_count": 32
        }
      ]
    },
    {
      "cell_type": "code",
      "source": [
        "np.max(data['EnvironmentSatisfaction'])"
      ],
      "metadata": {
        "colab": {
          "base_uri": "https://localhost:8080/"
        },
        "id": "8-QVQf-0Lpbf",
        "outputId": "f0111891-6340-43ed-f612-d82b97ebde0e"
      },
      "execution_count": null,
      "outputs": [
        {
          "output_type": "execute_result",
          "data": {
            "text/plain": [
              "4"
            ]
          },
          "metadata": {},
          "execution_count": 33
        }
      ]
    },
    {
      "cell_type": "code",
      "source": [
        "#To find out how many prople  have undergone Attrition from every field\n",
        "MA=np.sum((data['Attrition']=='Yes')&(data['EducationField']=='Medical'))\n",
        "LA=np.sum((data['Attrition']=='Yes')&(data['EducationField']=='Life Sciences'))\n",
        "OA=np.sum((data['Attrition']=='Yes')&(data['EducationField']=='Other'))\n",
        "TDA=np.sum((data['Attrition']=='Yes')&(data['EducationField']=='Technical Degree'))\n",
        "HA=np.sum((data['Attrition']=='Yes')&(data['EducationField']=='Human Resources'))\n",
        "MAR=np.sum((data['Attrition']=='Yes')&(data['EducationField']=='Marketing'))\n",
        "print(MA)\n",
        "print(LA)\n",
        "print(TDA)\n",
        "print(OA)\n",
        "print(HA)\n",
        "print(MAR)"
      ],
      "metadata": {
        "id": "1_Jk2shEMmTb",
        "colab": {
          "base_uri": "https://localhost:8080/"
        },
        "outputId": "0ca4f119-9706-4bea-d69e-c2d89bdc12f3"
      },
      "execution_count": null,
      "outputs": [
        {
          "output_type": "stream",
          "name": "stdout",
          "text": [
            "63\n",
            "89\n",
            "32\n",
            "11\n",
            "7\n",
            "35\n"
          ]
        }
      ]
    },
    {
      "cell_type": "code",
      "source": [
        "data.groupby('Attrition').size()#cellAttrition(for reference)"
      ],
      "metadata": {
        "colab": {
          "base_uri": "https://localhost:8080/"
        },
        "id": "zoh7vUoEdYCs",
        "outputId": "c1ee9741-4a2e-4d7b-844a-1150c9b5a051"
      },
      "execution_count": null,
      "outputs": [
        {
          "output_type": "execute_result",
          "data": {
            "text/plain": [
              "Attrition\n",
              "No     1233\n",
              "Yes     237\n",
              "dtype: int64"
            ]
          },
          "metadata": {},
          "execution_count": 35
        }
      ]
    },
    {
      "cell_type": "code",
      "source": [
        "MAR+HA+OA+TDA+LA+MA"
      ],
      "metadata": {
        "colab": {
          "base_uri": "https://localhost:8080/"
        },
        "id": "7lxkAiK_edpd",
        "outputId": "dff8a696-37e6-4772-859b-3df2e3619b9d"
      },
      "execution_count": null,
      "outputs": [
        {
          "output_type": "execute_result",
          "data": {
            "text/plain": [
              "237"
            ]
          },
          "metadata": {},
          "execution_count": 36
        }
      ]
    },
    {
      "cell_type": "code",
      "source": [
        "#to find out how many people could survive at their own companies(NO for Attrition)\n",
        "NMA=np.sum((data['Attrition']=='No')&(data['EducationField']=='Medical'))\n",
        "NLA=np.sum((data['Attrition']=='No')&(data['EducationField']=='Life Sciences'))\n",
        "NOA=np.sum((data['Attrition']=='No')&(data['EducationField']=='Other'))\n",
        "NTDA=np.sum((data['Attrition']=='No')&(data['EducationField']=='Technical Degree'))\n",
        "NHA=np.sum((data['Attrition']=='No')&(data['EducationField']=='Human Resources'))\n",
        "NMAR=np.sum((data['Attrition']=='No')&(data['EducationField']=='Marketing'))"
      ],
      "metadata": {
        "id": "RQjE93IPfbNj"
      },
      "execution_count": null,
      "outputs": []
    },
    {
      "cell_type": "code",
      "source": [
        "print(NMA)\n",
        "print(NOA)\n",
        "print(NLA)\n",
        "print(NTDA)\n",
        "print(NHA)\n",
        "print(NMAR)"
      ],
      "metadata": {
        "colab": {
          "base_uri": "https://localhost:8080/"
        },
        "id": "84VjuWoDgLoE",
        "outputId": "5cfd4b28-9039-4dc2-b584-272d80fd5c8a"
      },
      "execution_count": null,
      "outputs": [
        {
          "output_type": "stream",
          "name": "stdout",
          "text": [
            "401\n",
            "71\n",
            "517\n",
            "100\n",
            "20\n",
            "124\n"
          ]
        }
      ]
    },
    {
      "cell_type": "code",
      "source": [
        "#CrossChecking the values with the data\n",
        "NMA+NOA+NLA+NTDA+NHA+NMAR"
      ],
      "metadata": {
        "colab": {
          "base_uri": "https://localhost:8080/"
        },
        "id": "6TTt1aZLhRRE",
        "outputId": "3724b3ff-91f4-4f59-8463-71e915307430"
      },
      "execution_count": null,
      "outputs": [
        {
          "output_type": "execute_result",
          "data": {
            "text/plain": [
              "1233"
            ]
          },
          "metadata": {},
          "execution_count": 117
        }
      ]
    },
    {
      "cell_type": "code",
      "source": [
        "#since the sum is same as that obtained from the 'cell Attrition' mentioned above, our analysis is correct"
      ],
      "metadata": {
        "id": "9v4eh423hcdb"
      },
      "execution_count": null,
      "outputs": []
    },
    {
      "cell_type": "code",
      "source": [
        "#analysing Age and EducationGroup together\n",
        "data.groupby(['Age','EducationField']).size()"
      ],
      "metadata": {
        "colab": {
          "base_uri": "https://localhost:8080/"
        },
        "id": "2th0X56Cl1X2",
        "outputId": "ab99d625-246b-4792-b3b0-d4c115da9178"
      },
      "execution_count": null,
      "outputs": [
        {
          "output_type": "execute_result",
          "data": {
            "text/plain": [
              "Age  EducationField  \n",
              "18   Life Sciences       3\n",
              "     Marketing           1\n",
              "     Medical             4\n",
              "19   Life Sciences       3\n",
              "     Marketing           1\n",
              "                        ..\n",
              "59   Medical             3\n",
              "     Technical Degree    1\n",
              "60   Life Sciences       1\n",
              "     Marketing           3\n",
              "     Medical             1\n",
              "Length: 215, dtype: int64"
            ]
          },
          "metadata": {},
          "execution_count": 120
        }
      ]
    },
    {
      "cell_type": "code",
      "source": [
        "data[['Age','EducationField']].value_counts()"
      ],
      "metadata": {
        "colab": {
          "base_uri": "https://localhost:8080/"
        },
        "id": "OFYnC9bfne0-",
        "outputId": "bf4f9c70-a92d-47dd-f98a-a16225dc98a9"
      },
      "execution_count": null,
      "outputs": [
        {
          "output_type": "execute_result",
          "data": {
            "text/plain": [
              "Age  EducationField  \n",
              "35   Life Sciences       35\n",
              "36   Life Sciences       33\n",
              "31   Life Sciences       32\n",
              "32   Life Sciences       30\n",
              "34   Life Sciences       30\n",
              "                         ..\n",
              "52   Technical Degree     1\n",
              "23   Other                1\n",
              "     Marketing            1\n",
              "53   Other                1\n",
              "60   Medical              1\n",
              "Length: 215, dtype: int64"
            ]
          },
          "metadata": {},
          "execution_count": 42
        }
      ]
    },
    {
      "cell_type": "code",
      "source": [
        "#Exploring how far the companies are from the workers' homes\n",
        "data.DistanceFromHome.value_counts()"
      ],
      "metadata": {
        "colab": {
          "base_uri": "https://localhost:8080/"
        },
        "id": "L8KrbUOMEeyY",
        "outputId": "15c555b8-f706-4bfc-c3c3-dc253c5a8659"
      },
      "execution_count": null,
      "outputs": [
        {
          "output_type": "execute_result",
          "data": {
            "text/plain": [
              "2     211\n",
              "1     208\n",
              "10     86\n",
              "9      85\n",
              "3      84\n",
              "7      84\n",
              "8      80\n",
              "5      65\n",
              "4      64\n",
              "6      59\n",
              "16     32\n",
              "11     29\n",
              "24     28\n",
              "23     27\n",
              "29     27\n",
              "15     26\n",
              "18     26\n",
              "26     25\n",
              "25     25\n",
              "20     25\n",
              "28     23\n",
              "19     22\n",
              "14     21\n",
              "12     20\n",
              "17     20\n",
              "22     19\n",
              "13     19\n",
              "21     18\n",
              "27     12\n",
              "Name: DistanceFromHome, dtype: int64"
            ]
          },
          "metadata": {},
          "execution_count": 121
        }
      ]
    },
    {
      "cell_type": "code",
      "source": [
        "#dividing the people into different age groups\n",
        "tooyoung=np.sum(data['Age']<20)\n",
        "young=np.sum((data['Age']>=20)&(data['Age']<=35))\n",
        "midaged=np.sum((data['Age']>35)&(data['Age']<=62))\n",
        "old=np.sum((data['Age']>62)&(data['Age']<=80))"
      ],
      "metadata": {
        "id": "mqPolgvFoSBW"
      },
      "execution_count": null,
      "outputs": []
    },
    {
      "cell_type": "code",
      "source": [
        "print(tooyoung)\n",
        "print(young)\n",
        "print(midaged)\n",
        "print(old)"
      ],
      "metadata": {
        "colab": {
          "base_uri": "https://localhost:8080/"
        },
        "id": "vOUbU-rGpG7X",
        "outputId": "52eafa2c-5971-4c4a-bcc3-81f31c185da5"
      },
      "execution_count": null,
      "outputs": [
        {
          "output_type": "stream",
          "name": "stdout",
          "text": [
            "17\n",
            "712\n",
            "741\n",
            "0\n"
          ]
        }
      ]
    },
    {
      "cell_type": "code",
      "source": [
        "#To check if the sum equals total number of people\n",
        "tooyoung+young+midaged+old"
      ],
      "metadata": {
        "colab": {
          "base_uri": "https://localhost:8080/"
        },
        "id": "-0J_719MpXFf",
        "outputId": "b339dfa5-28b5-4902-b2e5-4cc94ff1ff7b"
      },
      "execution_count": null,
      "outputs": [
        {
          "output_type": "execute_result",
          "data": {
            "text/plain": [
              "1470"
            ]
          },
          "metadata": {},
          "execution_count": 124
        }
      ]
    },
    {
      "cell_type": "code",
      "source": [
        "sns.countplot(x='YearsAtCompany',data=data)"
      ],
      "metadata": {
        "colab": {
          "base_uri": "https://localhost:8080/",
          "height": 296
        },
        "id": "qtIB-L9ICwDX",
        "outputId": "c38bd6e6-e79d-47aa-8ed5-c5a0e4931653"
      },
      "execution_count": null,
      "outputs": [
        {
          "output_type": "execute_result",
          "data": {
            "text/plain": [
              "<matplotlib.axes._subplots.AxesSubplot at 0x7f6508977940>"
            ]
          },
          "metadata": {},
          "execution_count": 125
        },
        {
          "output_type": "display_data",
          "data": {
            "text/plain": [
              "<Figure size 432x288 with 1 Axes>"
            ],
            "image/png": "[encoded data removed]"
          },
          "metadata": {
            "needs_background": "light"
          }
        }
      ]
    },
    {
      "cell_type": "code",
      "source": [
        "data.YearsAtCompany.value_counts()"
      ],
      "metadata": {
        "colab": {
          "base_uri": "https://localhost:8080/"
        },
        "id": "W4rVvwdLDi-1",
        "outputId": "56792c47-d02c-4a96-e879-ba1aba70ba90"
      },
      "execution_count": null,
      "outputs": [
        {
          "output_type": "execute_result",
          "data": {
            "text/plain": [
              "5     196\n",
              "1     171\n",
              "3     128\n",
              "2     127\n",
              "10    120\n",
              "4     110\n",
              "7      90\n",
              "9      82\n",
              "8      80\n",
              "6      76\n",
              "0      44\n",
              "11     32\n",
              "20     27\n",
              "13     24\n",
              "15     20\n",
              "14     18\n",
              "22     15\n",
              "12     14\n",
              "21     14\n",
              "18     13\n",
              "16     12\n",
              "19     11\n",
              "17      9\n",
              "24      6\n",
              "33      5\n",
              "25      4\n",
              "26      4\n",
              "31      3\n",
              "32      3\n",
              "27      2\n",
              "36      2\n",
              "29      2\n",
              "23      2\n",
              "37      1\n",
              "40      1\n",
              "34      1\n",
              "30      1\n",
              "Name: YearsAtCompany, dtype: int64"
            ]
          },
          "metadata": {},
          "execution_count": 126
        }
      ]
    },
    {
      "cell_type": "code",
      "source": [
        "data.groupby('DistanceFromHome').size()"
      ],
      "metadata": {
        "colab": {
          "base_uri": "https://localhost:8080/"
        },
        "id": "eqhY6AaVD_Im",
        "outputId": "385b5a9a-64a2-488f-dfb3-38b00fe7f469"
      },
      "execution_count": null,
      "outputs": [
        {
          "output_type": "execute_result",
          "data": {
            "text/plain": [
              "DistanceFromHome\n",
              "1     208\n",
              "2     211\n",
              "3      84\n",
              "4      64\n",
              "5      65\n",
              "6      59\n",
              "7      84\n",
              "8      80\n",
              "9      85\n",
              "10     86\n",
              "11     29\n",
              "12     20\n",
              "13     19\n",
              "14     21\n",
              "15     26\n",
              "16     32\n",
              "17     20\n",
              "18     26\n",
              "19     22\n",
              "20     25\n",
              "21     18\n",
              "22     19\n",
              "23     27\n",
              "24     28\n",
              "25     25\n",
              "26     25\n",
              "27     12\n",
              "28     23\n",
              "29     27\n",
              "dtype: int64"
            ]
          },
          "metadata": {},
          "execution_count": 127
        }
      ]
    },
    {
      "cell_type": "code",
      "source": [
        "data.EnvironmentSatisfaction.value_counts()"
      ],
      "metadata": {
        "colab": {
          "base_uri": "https://localhost:8080/"
        },
        "id": "QNbjIwwbIgts",
        "outputId": "0c078b6b-02f2-4edd-809c-08af1207925a"
      },
      "execution_count": null,
      "outputs": [
        {
          "output_type": "execute_result",
          "data": {
            "text/plain": [
              "3    453\n",
              "4    446\n",
              "2    287\n",
              "1    284\n",
              "Name: EnvironmentSatisfaction, dtype: int64"
            ]
          },
          "metadata": {},
          "execution_count": 128
        }
      ]
    },
    {
      "cell_type": "code",
      "source": [
        "data.groupby(['EnvironmentSatisfaction','Age']).size()\n"
      ],
      "metadata": {
        "colab": {
          "base_uri": "https://localhost:8080/"
        },
        "id": "7RBnwucTIoPY",
        "outputId": "f90d0b5e-33ba-4251-c51b-407d7768057c"
      },
      "execution_count": null,
      "outputs": [
        {
          "output_type": "execute_result",
          "data": {
            "text/plain": [
              "EnvironmentSatisfaction  Age\n",
              "1                        19     2\n",
              "                         20     2\n",
              "                         21     3\n",
              "                         22     2\n",
              "                         23     3\n",
              "                               ..\n",
              "4                        55     7\n",
              "                         56     6\n",
              "                         57     1\n",
              "                         58     8\n",
              "                         59     1\n",
              "Length: 169, dtype: int64"
            ]
          },
          "metadata": {},
          "execution_count": 129
        }
      ]
    },
    {
      "cell_type": "code",
      "source": [
        "#most and least satisfied people by environment\n",
        "esmax=np.max(data['EnvironmentSatisfaction'])\n",
        "esmin=np.min(data['EnvironmentSatisfaction'])\n",
        "print(esmax)\n",
        "print(esmin)"
      ],
      "metadata": {
        "colab": {
          "base_uri": "https://localhost:8080/"
        },
        "id": "C-UOEEt0I-kQ",
        "outputId": "77d5f974-735c-4dbf-b7d2-553c6728bcf1"
      },
      "execution_count": null,
      "outputs": [
        {
          "output_type": "stream",
          "name": "stdout",
          "text": [
            "4\n",
            "1\n"
          ]
        }
      ]
    },
    {
      "cell_type": "code",
      "source": [
        "#most and least satisfied people by the Distance of Companies from their homes\n",
        "dfmax=np.max(data['DistanceFromHome'])\n",
        "dfmin=np.min(data['DistanceFromHome'])\n",
        "print(dfmax)\n",
        "print(dfmin)"
      ],
      "metadata": {
        "colab": {
          "base_uri": "https://localhost:8080/"
        },
        "id": "9ZQAtuDQJND4",
        "outputId": "cb580bf4-12ce-4a6a-8515-842208c01dfc"
      },
      "execution_count": null,
      "outputs": [
        {
          "output_type": "stream",
          "name": "stdout",
          "text": [
            "29\n",
            "1\n"
          ]
        }
      ]
    },
    {
      "cell_type": "code",
      "source": [
        "#most experienced people at a single company\n",
        "yamax=np.max(data['YearsAtCompany'])\n",
        "yamin=np.min(data['YearsAtCompany'])\n",
        "print(yamax)\n",
        "print(yamin)"
      ],
      "metadata": {
        "colab": {
          "base_uri": "https://localhost:8080/"
        },
        "id": "mShBOxBPJnRA",
        "outputId": "babfd5ac-efb5-42d2-b62a-285a5abb5056"
      },
      "execution_count": null,
      "outputs": [
        {
          "output_type": "stream",
          "name": "stdout",
          "text": [
            "40\n",
            "0\n"
          ]
        }
      ]
    },
    {
      "cell_type": "code",
      "source": [
        "#number of people who are most experienced at a single company\n",
        "np.sum(data['YearsAtCompany']==yamax)"
      ],
      "metadata": {
        "colab": {
          "base_uri": "https://localhost:8080/"
        },
        "id": "v6Ko-KWEJxYh",
        "outputId": "9a072d5d-8b50-4700-e9f7-2b7d506b29df"
      },
      "execution_count": null,
      "outputs": [
        {
          "output_type": "execute_result",
          "data": {
            "text/plain": [
              "1"
            ]
          },
          "metadata": {},
          "execution_count": 137
        }
      ]
    },
    {
      "cell_type": "code",
      "source": [
        "#number of people who are furthest from their companies\n",
        "np.sum(data['DistanceFromHome']==dfmax)"
      ],
      "metadata": {
        "colab": {
          "base_uri": "https://localhost:8080/"
        },
        "id": "kSUKRwXHKvo5",
        "outputId": "01c7b72a-d79d-4e03-9356-65c106897af1"
      },
      "execution_count": null,
      "outputs": [
        {
          "output_type": "execute_result",
          "data": {
            "text/plain": [
              "27"
            ]
          },
          "metadata": {},
          "execution_count": 138
        }
      ]
    },
    {
      "cell_type": "code",
      "source": [
        "#number of people who are most satisfied\n",
        "np.sum(data['EnvironmentSatisfaction']==esmax)"
      ],
      "metadata": {
        "colab": {
          "base_uri": "https://localhost:8080/"
        },
        "id": "yB8k7kOAK1Ap",
        "outputId": "a09baeaf-74a4-427e-b9e9-8552d3893672"
      },
      "execution_count": null,
      "outputs": [
        {
          "output_type": "execute_result",
          "data": {
            "text/plain": [
              "446"
            ]
          },
          "metadata": {},
          "execution_count": 139
        }
      ]
    },
    {
      "cell_type": "code",
      "source": [
        "#just to check if the above facts are right\n",
        "cx=np.sum(data['YearsAtCompany']==40)\n",
        "cy=np.sum(data['DistanceFromHome']==29)\n",
        "cz=np.sum(data['EnvironmentSatisfaction']==4)\n",
        "print(cx)\n",
        "print(cy)\n",
        "print(cz)"
      ],
      "metadata": {
        "colab": {
          "base_uri": "https://localhost:8080/"
        },
        "id": "dgrozBwxK_aZ",
        "outputId": "f1e0634a-d959-4233-b9eb-8ac1dd24bb64"
      },
      "execution_count": null,
      "outputs": [
        {
          "output_type": "stream",
          "name": "stdout",
          "text": [
            "1\n",
            "27\n",
            "446\n"
          ]
        }
      ]
    },
    {
      "cell_type": "code",
      "source": [
        "#dividing the people on the basis of their income\n",
        "low=np.sum(data['MonthlyIncome']<5000)\n",
        "mid=np.sum((data['MonthlyIncome']>=5000)&(data['MonthlyIncome']<=10000))\n",
        "high=np.sum((data['MonthlyIncome']>10000)&(data['MonthlyIncome']<=15000))\n",
        "highest=np.sum(data['MonthlyIncome']>15000)\n",
        "print(low)\n",
        "print(mid)\n",
        "print(high)\n",
        "print(highest)"
      ],
      "metadata": {
        "colab": {
          "base_uri": "https://localhost:8080/"
        },
        "id": "AIoFEwhtL6Gp",
        "outputId": "e5e37e79-ef10-4426-ddf6-4928f118d811"
      },
      "execution_count": null,
      "outputs": [
        {
          "output_type": "stream",
          "name": "stdout",
          "text": [
            "749\n",
            "440\n",
            "148\n",
            "133\n"
          ]
        }
      ]
    },
    {
      "cell_type": "code",
      "source": [
        "#This was the EDA for an Attrition Data\n",
        "print('Thank You') "
      ],
      "metadata": {
        "colab": {
          "base_uri": "https://localhost:8080/"
        },
        "id": "uX8LdceNT9f9",
        "outputId": "5e320339-114b-4cd3-ecc2-e70b9c82d4a3"
      },
      "execution_count": null,
      "outputs": [
        {
          "output_type": "stream",
          "name": "stdout",
          "text": [
            "Thank You\n"
          ]
        }
      ]
    },
    {
      "cell_type": "code",
      "source": [],
      "metadata": {
        "id": "Lldxvgj3Uq5d"
      },
      "execution_count": null,
      "outputs": []
    }
  ]
}